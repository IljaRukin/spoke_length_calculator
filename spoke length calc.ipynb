{
 "cells": [
  {
   "cell_type": "markdown",
   "id": "adult-meter",
   "metadata": {},
   "source": [
    "## spoke length calculation\n",
    "<img src=\"./wheel_schema.jpg\" style=\"width:300px\">\n"
   ]
  },
  {
   "cell_type": "markdown",
   "id": "329077a5",
   "metadata": {},
   "source": [
    "outer circle:\n",
    "\\begin{align}\n",
    "y &= \\sqrt{R_2^2-x^2}\n",
    "\\end{align}\n",
    "\n",
    "spoke position:\n",
    "\\begin{align}\n",
    "y &= L \\sin(\\alpha) \\\\\n",
    "x-R_1 &= L \\cos(\\alpha)\n",
    "\\end{align}\n",
    "\n",
    "combine:\n",
    "\\begin{align}\n",
    "& L \\sin(\\alpha) = \\sqrt{ R_2^2 - (L \\cos(\\alpha) + R_1)^2} \\\\\n",
    "\\Leftrightarrow \\quad & L^2 \\left(\\sin(\\alpha)^2 + \\cos(\\alpha)^2\\right) + L \\left(2 R_1 \\cos(\\alpha)\\right) + R_1^2 - R_2^2 = 0\n",
    "\\end{align}\n",
    "\n",
    "2D spoke length:\n",
    "\\begin{align}\n",
    "L &= R_1 \\cos(\\alpha) \\sqrt{(R_1 \\cos(\\alpha))^2-R_1^2+R_2^2}\n",
    "\\end{align}\n",
    "\n",
    "3D spoke length:\n",
    "\\begin{align}\n",
    "L_{3D} &= \\sqrt{L^2+c_{off}^2}\n",
    "\\end{align}"
   ]
  },
  {
   "cell_type": "markdown",
   "id": "threaded-expression",
   "metadata": {},
   "source": [
    "## lingo\n",
    "\n",
    "R2 = ERD/2 <br>\n",
    "R1 = PCD/2 <br>\n",
    "$c_{off}$ = FTF +- offset <br>"
   ]
  },
  {
   "cell_type": "markdown",
   "id": "9a4d35fb",
   "metadata": {},
   "source": [
    "## implement calculation"
   ]
  },
  {
   "cell_type": "code",
   "execution_count": 2,
   "id": "amino-pregnancy",
   "metadata": {},
   "outputs": [],
   "source": [
    "%reset -f\n",
    "import numpy as np\n",
    "\n",
    "#constants\n",
    "pi = np.pi\n",
    "i = complex(0,1)\n",
    "DEG2RAD = pi/180\n",
    "\n",
    "L2D = lambda R1,R2,alpha: -R1*np.cos(alpha) + np.sqrt((R1*np.cos(alpha))**2-R1**2+R2**2)\n",
    "spoke_len = lambda R1,R2,alpha,Coff: np.sqrt(L2D(R1,R2,alpha)**2+Coff**2)\n",
    "\n",
    "def spoke_length(**kwargs):\n",
    "    alpha = kwargs['alpha']*DEG2RAD\n",
    "    R2 = kwargs['ERD']/2\n",
    "    R1 = kwargs['PCD']/2\n",
    "    Coff = kwargs['FTF']/2 + kwargs['offset']\n",
    "    return spoke_len(R1,R2,alpha,Coff)"
   ]
  },
  {
   "cell_type": "markdown",
   "id": "8e6aa53e",
   "metadata": {},
   "source": [
    "## some real-world examples\n",
    "actual values appended in brackets"
   ]
  },
  {
   "cell_type": "code",
   "execution_count": 3,
   "id": "occasional-growing",
   "metadata": {},
   "outputs": [
    {
     "name": "stdout",
     "output_type": "stream",
     "text": [
      "spoke length (V) : 262.46697411293485 -(260mm)\n",
      "spoke length (HL) : 271.91617211452416 -(268mm)\n",
      "spoke length (HR) : 267.17328544555 -(264mm)\n"
     ]
    }
   ],
   "source": [
    "#50mm\n",
    "ERD = 544\n",
    "\n",
    "#novatec AS511SB (V)\n",
    "alpha = 0 #radial\n",
    "PCD = 25.4 #31.5\n",
    "FTF = 81.3 #80.4\n",
    "offset = 0\n",
    "\n",
    "print('spoke length (V) :',spoke_length(ERD=ERD,PCD=PCD,alpha=alpha,FTF=FTF,offset=offset),'-(260mm)')\n",
    "\n",
    "#novatec FS522SB (HL)\n",
    "alpha = 160/2 #\n",
    "PCD = 29.6 #34\n",
    "FTF = 53.5#+-2 #67.8\n",
    "offset = 12.7\n",
    "\n",
    "print('spoke length (HL) :',spoke_length(ERD=ERD,PCD=PCD,alpha=alpha,FTF=FTF,offset=offset),'-(268mm)')\n",
    "\n",
    "#novatec FS522SB (HR)\n",
    "alpha = 160/2 #\n",
    "PCD = 48 #47\n",
    "FTF = 53.5#+-2 #67.8\n",
    "offset = -12.7\n",
    "\n",
    "print('spoke length (HR) :',spoke_length(ERD=ERD,PCD=PCD,alpha=alpha,FTF=FTF,offset=offset),'-(264mm)')\n"
   ]
  },
  {
   "cell_type": "code",
   "execution_count": 4,
   "id": "c80d71a0",
   "metadata": {},
   "outputs": [
    {
     "name": "stdout",
     "output_type": "stream",
     "text": [
      "spoke length (V) : 248.00856840036798 -(248mm)\n",
      "spoke length (HL) : 248.72487310279203 -(248mm)\n",
      "spoke length (HR) : 249.6179976958225 -(248mm)\n"
     ]
    }
   ],
   "source": [
    "#404\n",
    "ERD = 526\n",
    "\n",
    "#Powerway R51 (V)\n",
    "alpha = 0\n",
    "PCD = 34\n",
    "FTF = 63\n",
    "offset = 0\n",
    "\n",
    "print('spoke length (V) :',spoke_length(ERD=ERD,PCD=PCD,alpha=alpha,FTF=FTF,offset=offset),'-(248mm)')\n",
    "\n",
    "#Powerway R51 (HL)\n",
    "alpha = 0\n",
    "PCD = 33.5\n",
    "FTF = 52\n",
    "offset = 9\n",
    "# 268mm\n",
    "\n",
    "print('spoke length (HL) :',spoke_length(ERD=ERD,PCD=PCD,alpha=alpha,FTF=FTF,offset=offset),'-(248mm)')\n",
    "\n",
    "#Powerway R51 (HR)\n",
    "alpha = 135/2\n",
    "PCD = 64.2\n",
    "FTF = 52\n",
    "offset = -9\n",
    "# \n",
    "\n",
    "print('spoke length (HR) :',spoke_length(ERD=ERD,PCD=PCD,alpha=alpha,FTF=FTF,offset=offset),'-(248mm)')\n"
   ]
  },
  {
   "cell_type": "code",
   "execution_count": 5,
   "id": "5e215be8",
   "metadata": {},
   "outputs": [
    {
     "name": "stdout",
     "output_type": "stream",
     "text": [
      "spoke length (V) : 247.63077353188558 -(248mm)\n",
      "spoke length (HL) : 258.1580000954118 -(260mm)\n",
      "spoke length (HR) : 256.97189148477435 -(260mm)\n",
      "spoke length (HL) : 248.72487310279203 -(mm)\n",
      "spoke length (HR) : 249.6179976958225 -(mm)\n"
     ]
    }
   ],
   "source": [
    "#454\n",
    "ERD = 526\n",
    "\n",
    "#Powerway R36 (V)\n",
    "alpha = 0 #radial\n",
    "PCD = 36 #25.5\n",
    "FTF = 72\n",
    "offset = 0\n",
    "\n",
    "print('spoke length (V) :',spoke_length(ERD=ERD,PCD=PCD,alpha=alpha,FTF=FTF,offset=offset),'-(248mm)')\n",
    "\n",
    "#Powertap GS (HL)\n",
    "alpha = 160/2\n",
    "PCD = 58\n",
    "FTF = 47\n",
    "offset = 6.5\n",
    "\n",
    "print('spoke length (HL) :',spoke_length(ERD=ERD,PCD=PCD,alpha=alpha,FTF=FTF,offset=offset),'-(260mm)')\n",
    "\n",
    "#Powertap GS (HR)\n",
    "alpha = 160/2\n",
    "PCD = 58\n",
    "FTF = 47\n",
    "offset = -6.5\n",
    "\n",
    "print('spoke length (HR) :',spoke_length(ERD=ERD,PCD=PCD,alpha=alpha,FTF=FTF,offset=offset),'-(260mm)')\n",
    "\n",
    "\n",
    "\n",
    "\n",
    "#Powerway R51 (HL)\n",
    "alpha = 0\n",
    "PCD = 33.5\n",
    "FTF = 52\n",
    "offset = 9\n",
    "\n",
    "print('spoke length (HL) :',spoke_length(ERD=ERD,PCD=PCD,alpha=alpha,FTF=FTF,offset=offset),'-(mm)')\n",
    "\n",
    "#Powerway R51 (HR)\n",
    "alpha = 135/2\n",
    "PCD = 64.2\n",
    "FTF = 52\n",
    "offset = -9\n",
    "\n",
    "print('spoke length (HR) :',spoke_length(ERD=ERD,PCD=PCD,alpha=alpha,FTF=FTF,offset=offset),'-(mm)')\n"
   ]
  },
  {
   "cell_type": "code",
   "execution_count": null,
   "id": "confident-burton",
   "metadata": {},
   "outputs": [],
   "source": []
  },
  {
   "cell_type": "markdown",
   "id": "going-profession",
   "metadata": {},
   "source": [
    "## indirect ERD measurement\n",
    "Determine the ERD of a wheel by measuring the distance between two spoke holes.<br>\n",
    "This avoids measurement through the center and enables the measurement of the ERD even if the hub is present.<br>\n",
    "\n",
    "To do the measurement:<br>\n",
    "Measure the distance \"dist\" between two spokes and specify the number of spokes \"nr_spokes\" between these two spokes. Also set the total number of spokes = \"total_spokes\".<br>\n",
    "\n",
    "ps: don't forget to add 2x the thickness of the rim at the spokehole"
   ]
  },
  {
   "cell_type": "code",
   "execution_count": 25,
   "id": "controversial-donor",
   "metadata": {},
   "outputs": [
    {
     "name": "stdout",
     "output_type": "stream",
     "text": [
      "ERD: 524.4870595016795  -(526mm)\n"
     ]
    }
   ],
   "source": [
    "total_spokes = 24\n",
    "nr_spokes = 10\n",
    "dist = 510 + 2*5\n",
    "angle = 2*pi*(nr_spokes+1)/total_spokes\n",
    "print('ERD:',dist/np.sin(angle/2),' -(526mm)')"
   ]
  },
  {
   "cell_type": "code",
   "execution_count": null,
   "id": "468b481f",
   "metadata": {},
   "outputs": [],
   "source": []
  }
 ],
 "metadata": {
  "kernelspec": {
   "display_name": "Python 3",
   "language": "python",
   "name": "python3"
  },
  "language_info": {
   "codemirror_mode": {
    "name": "ipython",
    "version": 3
   },
   "file_extension": ".py",
   "mimetype": "text/x-python",
   "name": "python",
   "nbconvert_exporter": "python",
   "pygments_lexer": "ipython3",
   "version": "3.8.8"
  }
 },
 "nbformat": 4,
 "nbformat_minor": 5
}
